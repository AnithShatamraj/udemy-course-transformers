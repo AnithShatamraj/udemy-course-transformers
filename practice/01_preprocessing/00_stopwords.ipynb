{
 "cells": [
  {
   "cell_type": "markdown",
   "id": "9d318445-fea1-42b5-b241-a637a0a02c38",
   "metadata": {},
   "source": [
    "## Stopwords"
   ]
  },
  {
   "cell_type": "code",
   "execution_count": 1,
   "id": "a137d3db-ad6e-4134-a9b3-797cbf82ea79",
   "metadata": {},
   "outputs": [],
   "source": [
    "from nltk.corpus import stopwords"
   ]
  },
  {
   "cell_type": "code",
   "execution_count": 2,
   "id": "3ccfb348-cb86-48e1-a3f0-f5c02b916b6f",
   "metadata": {},
   "outputs": [],
   "source": [
    "so = stopwords.words('english')"
   ]
  },
  {
   "cell_type": "code",
   "execution_count": 4,
   "id": "0fbe9cd1-a871-4df0-96b6-32289d218504",
   "metadata": {},
   "outputs": [],
   "source": [
    "sentence = \"This is a test sentence to practice removing stop words from a sentence by using nltk stopwords english corpus\""
   ]
  },
  {
   "cell_type": "code",
   "execution_count": 13,
   "id": "0a232416-d086-42fa-bd9b-023d27c95448",
   "metadata": {},
   "outputs": [],
   "source": [
    "sentence_no_stopwords_list = [word for word in sentence.lower().split(' ') if word not in so]\n",
    "sentence_no_stopwords = ' '.join(sentence_no_stopwords_list)"
   ]
  },
  {
   "cell_type": "code",
   "execution_count": 14,
   "id": "eaecae7e-923e-496f-872f-ba1ae9acb15e",
   "metadata": {},
   "outputs": [
    {
     "name": "stdout",
     "output_type": "stream",
     "text": [
      "original: This is a test sentence to practice removing stop words from a sentence by using nltk stopwords english corpus\n",
      "stop words removed: test sentence practice removing stop words sentence using nltk stopwords english corpus\n"
     ]
    }
   ],
   "source": [
    "print('original:', sentence)\n",
    "print('stop words removed:', sentence_no_stopwords)"
   ]
  }
 ],
 "metadata": {
  "kernelspec": {
   "display_name": "Python 3",
   "language": "python",
   "name": "python3"
  },
  "language_info": {
   "codemirror_mode": {
    "name": "ipython",
    "version": 3
   },
   "file_extension": ".py",
   "mimetype": "text/x-python",
   "name": "python",
   "nbconvert_exporter": "python",
   "pygments_lexer": "ipython3",
   "version": "3.8.8"
  }
 },
 "nbformat": 4,
 "nbformat_minor": 5
}
