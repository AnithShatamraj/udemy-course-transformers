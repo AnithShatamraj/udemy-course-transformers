{
 "cells": [
  {
   "cell_type": "markdown",
   "id": "b7f16375-e220-40df-b9ac-ba53eabb6303",
   "metadata": {},
   "source": [
    "## Stemming"
   ]
  },
  {
   "cell_type": "code",
   "execution_count": 2,
   "id": "48734e9b-692e-48a9-831e-c6120d124f68",
   "metadata": {},
   "outputs": [],
   "source": [
    "from nltk.stem import PorterStemmer, LancasterStemmer"
   ]
  },
  {
   "cell_type": "code",
   "execution_count": 3,
   "id": "5f8d09de-92bd-4948-a279-91e8d7996258",
   "metadata": {},
   "outputs": [],
   "source": [
    "ps = PorterStemmer()\n",
    "ls = LancasterStemmer()"
   ]
  },
  {
   "cell_type": "code",
   "execution_count": 4,
   "id": "bbf92729-d4b9-40bc-931c-42c95f9130b8",
   "metadata": {},
   "outputs": [],
   "source": [
    "sent = 'This is a test of stemming using different stemmers in nltk. There are two different stemmers Porter and Lancester'"
   ]
  },
  {
   "cell_type": "code",
   "execution_count": 11,
   "id": "5321a1ac-696d-4d83-9a1a-018792a69820",
   "metadata": {},
   "outputs": [
    {
     "name": "stdout",
     "output_type": "stream",
     "text": [
      "word                Porter              Lancester           \n",
      "This                thi                 thi                 \n",
      "is                  is                  is                  \n",
      "a                   a                   a                   \n",
      "test                test                test                \n",
      "of                  of                  of                  \n",
      "stemming            stem                stem                \n",
      "using               use                 us                  \n",
      "different           differ              diff                \n",
      "stemmers            stemmer             stem                \n",
      "in                  in                  in                  \n",
      "nltk.               nltk.               nltk.               \n",
      "There               there               ther                \n",
      "are                 are                 ar                  \n",
      "two                 two                 two                 \n",
      "different           differ              diff                \n",
      "stemmers            stemmer             stem                \n",
      "Porter              porter              port                \n",
      "and                 and                 and                 \n",
      "Lancester           lancest             lancest             \n"
     ]
    }
   ],
   "source": [
    "print(f'{\"word\":<20}{\"Porter\":<20}{\"Lancester\":<20}')\n",
    "for word in sent.split(' '):\n",
    "    print(f'{word:<20}{ps.stem(word):<20}{ls.stem(word):<20}')"
   ]
  },
  {
   "cell_type": "markdown",
   "id": "e889ccde-0e33-4603-8cea-77eed15002c0",
   "metadata": {},
   "source": [
    "## Lemmatization"
   ]
  },
  {
   "cell_type": "code",
   "execution_count": 14,
   "id": "ed549569-14ad-47ef-9334-bd716cdb3f39",
   "metadata": {},
   "outputs": [
    {
     "name": "stderr",
     "output_type": "stream",
     "text": [
      "[nltk_data] Downloading package wordnet to\n",
      "[nltk_data]     C:\\OtherSoftwares\\nltk_data...\n",
      "[nltk_data]   Package wordnet is already up-to-date!\n"
     ]
    },
    {
     "data": {
      "text/plain": [
       "True"
      ]
     },
     "execution_count": 14,
     "metadata": {},
     "output_type": "execute_result"
    }
   ],
   "source": [
    "import nltk\n",
    "nltk.download('wordnet')"
   ]
  },
  {
   "cell_type": "code",
   "execution_count": 15,
   "id": "17d1e3a4-b6e9-4669-982a-4f90b5aba3c8",
   "metadata": {},
   "outputs": [],
   "source": [
    "from nltk.stem import WordNetLemmatizer"
   ]
  },
  {
   "cell_type": "code",
   "execution_count": 16,
   "id": "8e5838e1-e6a9-4aba-a67c-64e3c7698959",
   "metadata": {},
   "outputs": [],
   "source": [
    "wl = WordNetLemmatizer()"
   ]
  },
  {
   "cell_type": "code",
   "execution_count": 20,
   "id": "15cdaaf0-625a-4fc3-8a84-29e826b651ed",
   "metadata": {},
   "outputs": [
    {
     "name": "stdout",
     "output_type": "stream",
     "text": [
      "Word                Porter              Lancester           WordnetLemma        \n",
      "This                thi                 thi                 This                \n",
      "is                  is                  is                  is                  \n",
      "a                   a                   a                   a                   \n",
      "test                test                test                test                \n",
      "of                  of                  of                  of                  \n",
      "stemming            stem                stem                stemming            \n",
      "using               use                 us                  using               \n",
      "different           differ              diff                different           \n",
      "stemmers            stemmer             stem                stemmer             \n",
      "in                  in                  in                  in                  \n",
      "nltk.               nltk.               nltk.               nltk.               \n",
      "There               there               ther                There               \n",
      "are                 are                 ar                  are                 \n",
      "two                 two                 two                 two                 \n",
      "different           differ              diff                different           \n",
      "stemmers            stemmer             stem                stemmer             \n",
      "Porter              porter              port                Porter              \n",
      "and                 and                 and                 and                 \n",
      "Lancester           lancest             lancest             Lancester           \n"
     ]
    }
   ],
   "source": [
    "print(f'{\"Word\":<20}{\"Porter\":<20}{\"Lancester\":<20}{\"WordnetLemma\":<20}')\n",
    "for word in sent.split(' '):\n",
    "    print(f'{word:<20}{ps.stem(word):<20}{ls.stem(word):<20}{wl.lemmatize(word):<20}')"
   ]
  },
  {
   "cell_type": "code",
   "execution_count": 23,
   "id": "785aa21d-89bb-4ffc-804f-7748e6dfdcb9",
   "metadata": {},
   "outputs": [],
   "source": [
    "from nltk.corpus import wordnet"
   ]
  },
  {
   "cell_type": "code",
   "execution_count": 25,
   "id": "74583886-867d-4516-a273-dabe9ec103e7",
   "metadata": {},
   "outputs": [
    {
     "name": "stdout",
     "output_type": "stream",
     "text": [
      "Word                Porter              Lancester           WordnetLemma        \n",
      "This                thi                 thi                 This                \n",
      "is                  is                  is                  be                  \n",
      "a                   a                   a                   a                   \n",
      "test                test                test                test                \n",
      "of                  of                  of                  of                  \n",
      "stemming            stem                stem                stem                \n",
      "using               use                 us                  use                 \n",
      "different           differ              diff                different           \n",
      "stemmers            stemmer             stem                stemmers            \n",
      "in                  in                  in                  in                  \n",
      "nltk.               nltk.               nltk.               nltk.               \n",
      "There               there               ther                There               \n",
      "are                 are                 ar                  be                  \n",
      "two                 two                 two                 two                 \n",
      "different           differ              diff                different           \n",
      "stemmers            stemmer             stem                stemmers            \n",
      "Porter              porter              port                Porter              \n",
      "and                 and                 and                 and                 \n",
      "Lancester           lancest             lancest             Lancester           \n"
     ]
    }
   ],
   "source": [
    "print(f'{\"Word\":<20}{\"Porter\":<20}{\"Lancester\":<20}{\"WordnetLemma\":<20}')\n",
    "for word in sent.split(' '):\n",
    "    print(f'{word:<20}{ps.stem(word):<20}{ls.stem(word):<20}{wl.lemmatize(word, wordnet.VERB):<20}')"
   ]
  }
 ],
 "metadata": {
  "kernelspec": {
   "display_name": "Python 3",
   "language": "python",
   "name": "python3"
  },
  "language_info": {
   "codemirror_mode": {
    "name": "ipython",
    "version": 3
   },
   "file_extension": ".py",
   "mimetype": "text/x-python",
   "name": "python",
   "nbconvert_exporter": "python",
   "pygments_lexer": "ipython3",
   "version": "3.8.8"
  }
 },
 "nbformat": 4,
 "nbformat_minor": 5
}
