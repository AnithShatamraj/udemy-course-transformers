{
 "cells": [
  {
   "cell_type": "code",
   "execution_count": 1,
   "id": "0924c00e-2481-4ffb-ab66-25c725f23362",
   "metadata": {},
   "outputs": [],
   "source": [
    "import unicodedata"
   ]
  },
  {
   "cell_type": "markdown",
   "id": "02272f55-0f50-4cbf-a88a-cfc8bd80e705",
   "metadata": {},
   "source": [
    "## Canonical Equivalance\n",
    "same charecter made from combining differentunicodes\n",
    "eg:  &#00199; -> \\u00C7 and &#00067;&#00807; ->  \\u0043\\u0327, 가 -> \\uac00 and &#04352;&#04449; -> \\u1100\\u1161"
   ]
  },
  {
   "cell_type": "code",
   "execution_count": 3,
   "id": "cbc59dec-adaf-4859-8bba-e30729b643e3",
   "metadata": {},
   "outputs": [
    {
     "name": "stdout",
     "output_type": "stream",
     "text": [
      "Ç Ç\n"
     ]
    }
   ],
   "source": [
    "print(\"\\u00C7\", \"\\u0043\"+\"\\u0327\") # Both these characters are same but are represented by different unicodes"
   ]
  },
  {
   "cell_type": "code",
   "execution_count": 4,
   "id": "647a8c80-87bf-4c59-8c72-4e31f268d74a",
   "metadata": {},
   "outputs": [
    {
     "name": "stdout",
     "output_type": "stream",
     "text": [
      "Ç C ̧\n"
     ]
    }
   ],
   "source": [
    "print(\"\\u00C7\", \"\\u0043\", \"\\u0327\")"
   ]
  },
  {
   "cell_type": "code",
   "execution_count": 23,
   "id": "eff4d0a8-c15d-4c17-82f7-a723b9adec8b",
   "metadata": {},
   "outputs": [
    {
     "data": {
      "text/plain": [
       "True"
      ]
     },
     "execution_count": 23,
     "metadata": {},
     "output_type": "execute_result"
    }
   ],
   "source": [
    "unicodedata.normalize(\"NFC\", \"\\u0043\"+\"\\u0327\") == \"Ç\""
   ]
  },
  {
   "cell_type": "markdown",
   "id": "d0d0d647-604c-4f1a-a807-9ed6e574822e",
   "metadata": {
    "tags": []
   },
   "source": [
    "## Compitability equivalance\n",
    "A charecter have additional information with it:\n",
    "e.g.\n",
    "- differnet font\n",
    "- cursive\n",
    "- circled\n",
    "- fractions\n",
    "- superscript and subscript"
   ]
  },
  {
   "cell_type": "code",
   "execution_count": 7,
   "id": "96b930ed-97dc-43ea-980d-47ea6350bf07",
   "metadata": {},
   "outputs": [
    {
     "data": {
      "text/plain": [
       "False"
      ]
     },
     "execution_count": 7,
     "metadata": {},
     "output_type": "execute_result"
    }
   ],
   "source": [
    "\"ℌ\" == \"H\""
   ]
  },
  {
   "cell_type": "code",
   "execution_count": 8,
   "id": "30d47020-8934-4cb7-b888-9ec56d1b1d89",
   "metadata": {},
   "outputs": [
    {
     "data": {
      "text/plain": [
       "False"
      ]
     },
     "execution_count": 8,
     "metadata": {},
     "output_type": "execute_result"
    }
   ],
   "source": [
    "\"½\" == \"1⁄2\""
   ]
  },
  {
   "cell_type": "code",
   "execution_count": 15,
   "id": "ec1ea96e-1063-4964-8211-7d56fef684be",
   "metadata": {},
   "outputs": [
    {
     "data": {
      "text/plain": [
       "'H'"
      ]
     },
     "execution_count": 15,
     "metadata": {},
     "output_type": "execute_result"
    }
   ],
   "source": [
    "unicodedata.normalize('NFKC', \"ℌ\")"
   ]
  }
 ],
 "metadata": {
  "kernelspec": {
   "display_name": "Python 3",
   "language": "python",
   "name": "python3"
  },
  "language_info": {
   "codemirror_mode": {
    "name": "ipython",
    "version": 3
   },
   "file_extension": ".py",
   "mimetype": "text/x-python",
   "name": "python",
   "nbconvert_exporter": "python",
   "pygments_lexer": "ipython3",
   "version": "3.8.8"
  }
 },
 "nbformat": 4,
 "nbformat_minor": 5
}
