{
 "cells": [
  {
   "cell_type": "code",
   "execution_count": 1,
   "id": "33629876-ca07-4372-a625-795500019a59",
   "metadata": {},
   "outputs": [],
   "source": [
    "from kaggle.api.kaggle_api_extended import KaggleApi"
   ]
  },
  {
   "cell_type": "code",
   "execution_count": 2,
   "id": "57187c2c-449e-4fd0-86a1-a939c3fec493",
   "metadata": {},
   "outputs": [],
   "source": [
    "api = KaggleApi()"
   ]
  },
  {
   "cell_type": "code",
   "execution_count": 3,
   "id": "25fb02af-6e44-40ac-97e9-8d1706e91a82",
   "metadata": {},
   "outputs": [],
   "source": [
    "api.authenticate()"
   ]
  },
  {
   "cell_type": "code",
   "execution_count": 7,
   "id": "944cd2fd-ad6d-4b35-9606-a85dbe04beb0",
   "metadata": {},
   "outputs": [],
   "source": [
    "api.competition_download_files('sentiment-analysis-on-movie-reviews', path='./')"
   ]
  },
  {
   "cell_type": "code",
   "execution_count": 8,
   "id": "7f0d2a5c-879b-45ba-8c8f-58a6f2a947c0",
   "metadata": {},
   "outputs": [],
   "source": [
    "import zipfile"
   ]
  },
  {
   "cell_type": "code",
   "execution_count": 9,
   "id": "f6a8625f-bdb8-4e7a-b2f7-8df50323646c",
   "metadata": {},
   "outputs": [],
   "source": [
    "with zipfile.ZipFile('./sentiment-analysis-on-movie-reviews.zip') as zip:\n",
    "    zip.extractall('./')"
   ]
  },
  {
   "cell_type": "code",
   "execution_count": 10,
   "id": "1b9d2e7c-6168-4ec6-89ab-c3ab4170e653",
   "metadata": {},
   "outputs": [],
   "source": [
    "files = ['test.tsv.zip', 'train.tsv.zip']\n",
    "for file in files:\n",
    "    with zipfile.ZipFile(f'./{file}') as zip:\n",
    "        zip.extractall()"
   ]
  }
 ],
 "metadata": {
  "kernelspec": {
   "display_name": "Python 3",
   "language": "python",
   "name": "python3"
  },
  "language_info": {
   "codemirror_mode": {
    "name": "ipython",
    "version": 3
   },
   "file_extension": ".py",
   "mimetype": "text/x-python",
   "name": "python",
   "nbconvert_exporter": "python",
   "pygments_lexer": "ipython3",
   "version": "3.8.8"
  }
 },
 "nbformat": 4,
 "nbformat_minor": 5
}
