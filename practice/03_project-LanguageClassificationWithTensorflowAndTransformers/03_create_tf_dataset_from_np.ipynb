{
 "cells": [
  {
   "cell_type": "code",
   "execution_count": 46,
   "id": "a463b8af-dd9e-4367-a5d4-13c55c1ca5fa",
   "metadata": {},
   "outputs": [],
   "source": [
    "import pickle\n",
    "import numpy as np\n",
    "from tensorflow.data import Dataset\n",
    "from tensorflow.data.experimental import save as save_tf_data_set"
   ]
  },
  {
   "cell_type": "code",
   "execution_count": 3,
   "id": "e3301883-e655-4d12-9cab-e67e3a1c7937",
   "metadata": {},
   "outputs": [],
   "source": [
    "def read_np_data(f_name):\n",
    "    with open(f_name, 'rb') as f:\n",
    "        np_data = np.load(f, allow_pickle=True)\n",
    "    return np_data"
   ]
  },
  {
   "cell_type": "code",
   "execution_count": 48,
   "id": "ca67462b-77c6-4862-882d-e980ae4490a2",
   "metadata": {},
   "outputs": [],
   "source": [
    "batch_size=128"
   ]
  },
  {
   "cell_type": "code",
   "execution_count": 49,
   "id": "7a1bc981-98b2-4a99-bc24-20e4cf562ba3",
   "metadata": {},
   "outputs": [],
   "source": [
    "input_data = read_np_data('input_ids_np.npy')\n",
    "attention_mask = read_np_data('attention_mask_np.npy')\n",
    "labels = read_np_data('labels.npy')"
   ]
  },
  {
   "cell_type": "code",
   "execution_count": 50,
   "id": "0159e092-cee6-4570-bc68-1200c5bc768e",
   "metadata": {},
   "outputs": [
    {
     "data": {
      "text/plain": [
       "((8529, 512), (8529, 512), (8529, 5))"
      ]
     },
     "execution_count": 50,
     "metadata": {},
     "output_type": "execute_result"
    }
   ],
   "source": [
    "input_data.shape, attention_mask.shape, labels.shape"
   ]
  },
  {
   "cell_type": "code",
   "execution_count": 51,
   "id": "3d2c3523-3b1b-4229-bba1-5cb8efac5df5",
   "metadata": {},
   "outputs": [],
   "source": [
    "dataset = Dataset.from_tensor_slices((input_data, attention_mask, labels))"
   ]
  },
  {
   "cell_type": "code",
   "execution_count": 52,
   "id": "3da79233-5b72-4314-99d6-c158f85d33f9",
   "metadata": {},
   "outputs": [],
   "source": [
    "def map_data(in_data, atten_mask, labels):\n",
    "    return {'input_data': in_data, 'attention_mask': atten_mask}, labels"
   ]
  },
  {
   "cell_type": "code",
   "execution_count": 53,
   "id": "621674ea-5c36-4822-b979-4a7a567dfc97",
   "metadata": {},
   "outputs": [],
   "source": [
    "dataset_mapped = dataset.map(map_data)"
   ]
  },
  {
   "cell_type": "code",
   "execution_count": 54,
   "id": "2d4f99d1-d81b-4c89-a858-dcff81103f29",
   "metadata": {},
   "outputs": [
    {
     "data": {
      "text/plain": [
       "<MapDataset shapes: ({input_data: (512,), attention_mask: (512,)}, (5,)), types: ({input_data: tf.int32, attention_mask: tf.int32}, tf.float64)>"
      ]
     },
     "execution_count": 54,
     "metadata": {},
     "output_type": "execute_result"
    }
   ],
   "source": [
    "dataset_mapped"
   ]
  },
  {
   "cell_type": "code",
   "execution_count": 55,
   "id": "473ee362-6c00-4be4-94cc-dca5584f7d20",
   "metadata": {},
   "outputs": [
    {
     "data": {
      "text/plain": [
       "<TakeDataset shapes: ({input_data: (512,), attention_mask: (512,)}, (5,)), types: ({input_data: tf.int32, attention_mask: tf.int32}, tf.float64)>"
      ]
     },
     "execution_count": 55,
     "metadata": {},
     "output_type": "execute_result"
    }
   ],
   "source": [
    "dataset_mapped.take(1)"
   ]
  },
  {
   "cell_type": "code",
   "execution_count": 56,
   "id": "76b17deb-4329-45f0-8f44-dd9bda18c7e7",
   "metadata": {},
   "outputs": [],
   "source": [
    "dataset_mapped = dataset_mapped.shuffle(buffer_size=len(dataset))"
   ]
  },
  {
   "cell_type": "code",
   "execution_count": 57,
   "id": "e37c379b-8f64-4a68-a944-292a130a9875",
   "metadata": {},
   "outputs": [],
   "source": [
    "dataset_mapped = dataset_mapped.batch(batch_size=batch_size, drop_remainder=True)"
   ]
  },
  {
   "cell_type": "code",
   "execution_count": 58,
   "id": "ec4bd75a-0488-479d-886b-d63ed042b203",
   "metadata": {},
   "outputs": [
    {
     "data": {
      "text/plain": [
       "59"
      ]
     },
     "execution_count": 58,
     "metadata": {},
     "output_type": "execute_result"
    }
   ],
   "source": [
    "train_size = int(len(input_data)/batch_size * 0.9)\n",
    "train_size"
   ]
  },
  {
   "cell_type": "code",
   "execution_count": 59,
   "id": "0e93314e-3df9-4641-b4cd-a544cf1ab31f",
   "metadata": {},
   "outputs": [],
   "source": [
    "train_dataset = dataset_mapped.take(train_size)\n",
    "valid_dataset = dataset_mapped.skip(train_size)"
   ]
  },
  {
   "cell_type": "code",
   "execution_count": 60,
   "id": "f0851a96-66b6-46dd-b241-0bf68d2078e1",
   "metadata": {},
   "outputs": [],
   "source": [
    "save_tf_data_set(train_dataset, 'train_dataset')\n",
    "save_tf_data_set(valid_dataset, 'valid_dataset')"
   ]
  },
  {
   "cell_type": "code",
   "execution_count": 61,
   "id": "91eb284e-3e95-4403-8877-f75ec53c220b",
   "metadata": {},
   "outputs": [],
   "source": [
    "element_spec = train_dataset.element_spec"
   ]
  },
  {
   "cell_type": "code",
   "execution_count": 62,
   "id": "66455495-8835-4e52-bcdb-3ea51a8643c2",
   "metadata": {},
   "outputs": [],
   "source": [
    "with open('element_spec.pkl', 'wb') as f:\n",
    "    pickle.dump(element_spec, f)"
   ]
  }
 ],
 "metadata": {
  "kernelspec": {
   "display_name": "Python 3",
   "language": "python",
   "name": "python3"
  },
  "language_info": {
   "codemirror_mode": {
    "name": "ipython",
    "version": 3
   },
   "file_extension": ".py",
   "mimetype": "text/x-python",
   "name": "python",
   "nbconvert_exporter": "python",
   "pygments_lexer": "ipython3",
   "version": "3.8.8"
  }
 },
 "nbformat": 4,
 "nbformat_minor": 5
}
