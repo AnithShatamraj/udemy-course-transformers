{
 "cells": [
  {
   "cell_type": "code",
   "execution_count": 1,
   "id": "c877631d-ef71-477b-be01-854d55c05be0",
   "metadata": {},
   "outputs": [
    {
     "name": "stderr",
     "output_type": "stream",
     "text": [
      "C:\\Users\\Anith.Shatamraj\\PersonalProjects\\UdemyTransformers\\venv\\lib\\site-packages\\tqdm\\auto.py:22: TqdmWarning: IProgress not found. Please update jupyter and ipywidgets. See https://ipywidgets.readthedocs.io/en/stable/user_install.html\n",
      "  from .autonotebook import tqdm as notebook_tqdm\n"
     ]
    }
   ],
   "source": [
    "import flair"
   ]
  },
  {
   "cell_type": "code",
   "execution_count": 2,
   "id": "e4f06140-762d-48a4-a8c6-897a166a1094",
   "metadata": {},
   "outputs": [
    {
     "name": "stdout",
     "output_type": "stream",
     "text": [
      "2022-05-03 17:38:26,967 https://nlp.informatik.hu-berlin.de/resources/models/sentiment-curated-distilbert/sentiment-en-mix-distillbert_4.pt not found in cache, downloading to C:\\Users\\ANITH~1.SHA\\AppData\\Local\\Temp\\tmpqjlr0h6y\n"
     ]
    },
    {
     "name": "stderr",
     "output_type": "stream",
     "text": [
      "100%|████████████████████████████████████████████████████████████████| 265512723/265512723 [01:49<00:00, 2427240.53B/s]"
     ]
    },
    {
     "name": "stdout",
     "output_type": "stream",
     "text": [
      "2022-05-03 17:40:17,115 copying C:\\Users\\ANITH~1.SHA\\AppData\\Local\\Temp\\tmpqjlr0h6y to cache at C:\\Users\\Anith.Shatamraj\\.flair\\models\\sentiment-en-mix-distillbert_4.pt\n"
     ]
    },
    {
     "name": "stderr",
     "output_type": "stream",
     "text": [
      "\n"
     ]
    },
    {
     "name": "stdout",
     "output_type": "stream",
     "text": [
      "2022-05-03 17:40:17,246 removing temp file C:\\Users\\ANITH~1.SHA\\AppData\\Local\\Temp\\tmpqjlr0h6y\n",
      "2022-05-03 17:40:17,270 loading file C:\\Users\\Anith.Shatamraj\\.flair\\models\\sentiment-en-mix-distillbert_4.pt\n"
     ]
    },
    {
     "name": "stderr",
     "output_type": "stream",
     "text": [
      "Downloading: 100%|██████████████████████████████████████████████████████████████████| 232k/232k [00:03<00:00, 62.7kB/s]\n",
      "Downloading: 100%|███████████████████████████████████████████████████████████████████| 466k/466k [00:04<00:00, 109kB/s]\n"
     ]
    }
   ],
   "source": [
    "model = flair.models.TextClassifier.load('en-sentiment')"
   ]
  },
  {
   "cell_type": "code",
   "execution_count": 5,
   "id": "958ab305-68ab-4c1e-8224-f047c9e24dd8",
   "metadata": {},
   "outputs": [],
   "source": [
    "sentence = flair.data.Sentence(\"Happy to see you!\")"
   ]
  },
  {
   "cell_type": "code",
   "execution_count": 6,
   "id": "aec7df63-fc6c-49ed-978f-c7914c411c44",
   "metadata": {},
   "outputs": [
    {
     "data": {
      "text/plain": [
       "'Happy to see you !'"
      ]
     },
     "execution_count": 6,
     "metadata": {},
     "output_type": "execute_result"
    }
   ],
   "source": [
    "sentence.to_tokenized_string()"
   ]
  },
  {
   "cell_type": "code",
   "execution_count": 16,
   "id": "bae17ab3-2242-4705-b2ba-bec028728625",
   "metadata": {},
   "outputs": [],
   "source": [
    "model.predict(sentence)"
   ]
  },
  {
   "cell_type": "code",
   "execution_count": 26,
   "id": "f4d1a027-9acd-4292-b11c-19bbb0547b14",
   "metadata": {},
   "outputs": [
    {
     "data": {
      "text/plain": [
       "0.9983044862747192"
      ]
     },
     "execution_count": 26,
     "metadata": {},
     "output_type": "execute_result"
    }
   ],
   "source": [
    "sentence.get_labels()[0].score"
   ]
  },
  {
   "cell_type": "code",
   "execution_count": 50,
   "id": "fd93309d-74be-4528-834b-a05a5d7d0112",
   "metadata": {},
   "outputs": [
    {
     "data": {
      "text/plain": [
       "[NEGATIVE (0.9298)]"
      ]
     },
     "execution_count": 50,
     "metadata": {},
     "output_type": "execute_result"
    }
   ],
   "source": [
    "sentence2 = flair.data.Sentence(\"Movies had exceptional visuals, but was bit underwhelming. You should watch it.\")\n",
    "model.predict([sentence, sentence2])\n",
    "sentence2.get_labels()"
   ]
  },
  {
   "cell_type": "markdown",
   "id": "661893ae-e68b-44c5-8fc0-8102e92a63da",
   "metadata": {},
   "source": [
    "## Practice"
   ]
  },
  {
   "cell_type": "code",
   "execution_count": 3,
   "id": "5844b71a-97f2-4931-b89a-137822cd644c",
   "metadata": {},
   "outputs": [
    {
     "name": "stdout",
     "output_type": "stream",
     "text": [
      "2022-05-16 18:01:50,701 loading file C:\\Users\\Anith.Shatamraj\\.flair\\models\\sentiment-en-mix-distillbert_4.pt\n"
     ]
    }
   ],
   "source": [
    "sentiment_model = flair.models.TextClassifier.load('en-sentiment')"
   ]
  },
  {
   "cell_type": "code",
   "execution_count": 4,
   "id": "02aa8fc2-5c09-4675-ad69-dcf368634c5c",
   "metadata": {},
   "outputs": [],
   "source": [
    "sent = flair.data.Sentence('What is the sentiment of this sentence?')"
   ]
  },
  {
   "cell_type": "code",
   "execution_count": 5,
   "id": "dfe78dd0-61b1-48f0-8107-32784cc8abff",
   "metadata": {},
   "outputs": [
    {
     "data": {
      "text/plain": [
       "'What is the sentiment of this sentence ?'"
      ]
     },
     "execution_count": 5,
     "metadata": {},
     "output_type": "execute_result"
    }
   ],
   "source": [
    "sent.to_tokenized_string()"
   ]
  },
  {
   "cell_type": "code",
   "execution_count": 6,
   "id": "ac1f6f08-e47d-4fe5-9388-243ce3bf9099",
   "metadata": {},
   "outputs": [],
   "source": [
    "sentiment_model.predict(sent)"
   ]
  },
  {
   "cell_type": "code",
   "execution_count": 9,
   "id": "e74ec7e0-77b0-44ee-a72b-a6a7b52e4a9a",
   "metadata": {},
   "outputs": [
    {
     "data": {
      "text/plain": [
       "0.9981739521026611"
      ]
     },
     "execution_count": 9,
     "metadata": {},
     "output_type": "execute_result"
    }
   ],
   "source": [
    "sent.get_labels()[0].score"
   ]
  }
 ],
 "metadata": {
  "kernelspec": {
   "display_name": "Python 3",
   "language": "python",
   "name": "python3"
  },
  "language_info": {
   "codemirror_mode": {
    "name": "ipython",
    "version": 3
   },
   "file_extension": ".py",
   "mimetype": "text/x-python",
   "name": "python",
   "nbconvert_exporter": "python",
   "pygments_lexer": "ipython3",
   "version": "3.8.8"
  }
 },
 "nbformat": 4,
 "nbformat_minor": 5
}
